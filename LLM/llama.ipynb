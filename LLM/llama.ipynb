{
 "cells": [
  {
   "cell_type": "code",
   "execution_count": 1,
   "id": "195986a3",
   "metadata": {},
   "outputs": [
    {
     "name": "stdout",
     "output_type": "stream",
     "text": [
      "Requirement already satisfied: streamlit in c:\\users\\srikanth\\appdata\\local\\programs\\python\\python38\\lib\\site-packages (1.40.1)\n",
      "Requirement already satisfied: altair<6,>=4.0 in c:\\users\\srikanth\\appdata\\local\\programs\\python\\python38\\lib\\site-packages (from streamlit) (5.4.1)\n",
      "Requirement already satisfied: pyarrow>=7.0 in c:\\users\\srikanth\\appdata\\local\\programs\\python\\python38\\lib\\site-packages (from streamlit) (17.0.0)\n",
      "Requirement already satisfied: blinker<2,>=1.0.0 in c:\\users\\srikanth\\appdata\\local\\programs\\python\\python38\\lib\\site-packages (from streamlit) (1.8.2)\n",
      "Requirement already satisfied: numpy<3,>=1.20 in c:\\users\\srikanth\\appdata\\local\\programs\\python\\python38\\lib\\site-packages (from streamlit) (1.21.3)\n",
      "Requirement already satisfied: toml<2,>=0.10.1 in c:\\users\\srikanth\\appdata\\local\\programs\\python\\python38\\lib\\site-packages (from streamlit) (0.10.2)\n",
      "Requirement already satisfied: requests<3,>=2.27 in c:\\users\\srikanth\\appdata\\local\\programs\\python\\python38\\lib\\site-packages (from streamlit) (2.32.4)\n",
      "Requirement already satisfied: pillow<12,>=7.1.0 in c:\\users\\srikanth\\appdata\\local\\programs\\python\\python38\\lib\\site-packages (from streamlit) (10.4.0)\n",
      "Requirement already satisfied: tenacity<10,>=8.1.0 in c:\\users\\srikanth\\appdata\\local\\programs\\python\\python38\\lib\\site-packages (from streamlit) (8.5.0)\n",
      "Requirement already satisfied: gitpython!=3.1.19,<4,>=3.0.7 in c:\\users\\srikanth\\appdata\\local\\programs\\python\\python38\\lib\\site-packages (from streamlit) (3.1.44)\n",
      "Requirement already satisfied: pandas<3,>=1.4.0 in c:\\users\\srikanth\\appdata\\local\\programs\\python\\python38\\lib\\site-packages (from streamlit) (1.5.3)\n",
      "Requirement already satisfied: packaging<25,>=20 in c:\\users\\srikanth\\appdata\\local\\programs\\python\\python38\\lib\\site-packages (from streamlit) (24.2)\n",
      "Requirement already satisfied: pydeck<1,>=0.8.0b4 in c:\\users\\srikanth\\appdata\\local\\programs\\python\\python38\\lib\\site-packages (from streamlit) (0.9.1)\n",
      "Requirement already satisfied: tornado<7,>=6.0.3 in c:\\users\\srikanth\\appdata\\roaming\\python\\python38\\site-packages (from streamlit) (6.4.2)\n",
      "Requirement already satisfied: cachetools<6,>=4.0 in c:\\users\\srikanth\\appdata\\local\\programs\\python\\python38\\lib\\site-packages (from streamlit) (4.2.4)\n",
      "Requirement already satisfied: rich<14,>=10.14.0 in c:\\users\\srikanth\\appdata\\local\\programs\\python\\python38\\lib\\site-packages (from streamlit) (13.9.4)\n",
      "Requirement already satisfied: protobuf<6,>=3.20 in c:\\users\\srikanth\\appdata\\local\\programs\\python\\python38\\lib\\site-packages (from streamlit) (3.20.3)\n",
      "Requirement already satisfied: typing-extensions<5,>=4.3.0 in c:\\users\\srikanth\\appdata\\local\\programs\\python\\python38\\lib\\site-packages (from streamlit) (4.13.2)\n",
      "Requirement already satisfied: click<9,>=7.0 in c:\\users\\srikanth\\appdata\\local\\programs\\python\\python38\\lib\\site-packages (from streamlit) (8.1.8)\n",
      "Requirement already satisfied: watchdog<7,>=2.1.5; platform_system != \"Darwin\" in c:\\users\\srikanth\\appdata\\local\\programs\\python\\python38\\lib\\site-packages (from streamlit) (4.0.2)\n",
      "Requirement already satisfied: jinja2 in c:\\users\\srikanth\\appdata\\local\\programs\\python\\python38\\lib\\site-packages (from altair<6,>=4.0->streamlit) (3.1.6)\n",
      "Requirement already satisfied: jsonschema>=3.0 in c:\\users\\srikanth\\appdata\\local\\programs\\python\\python38\\lib\\site-packages (from altair<6,>=4.0->streamlit) (4.23.0)\n",
      "Requirement already satisfied: narwhals>=1.5.2 in c:\\users\\srikanth\\appdata\\local\\programs\\python\\python38\\lib\\site-packages (from altair<6,>=4.0->streamlit) (1.42.1)\n",
      "Requirement already satisfied: urllib3<3,>=1.21.1 in c:\\users\\srikanth\\appdata\\local\\programs\\python\\python38\\lib\\site-packages (from requests<3,>=2.27->streamlit) (2.2.3)\n",
      "Requirement already satisfied: idna<4,>=2.5 in c:\\users\\srikanth\\appdata\\local\\programs\\python\\python38\\lib\\site-packages (from requests<3,>=2.27->streamlit) (3.10)\n",
      "Requirement already satisfied: certifi>=2017.4.17 in c:\\users\\srikanth\\appdata\\local\\programs\\python\\python38\\lib\\site-packages (from requests<3,>=2.27->streamlit) (2025.7.9)\n",
      "Requirement already satisfied: charset_normalizer<4,>=2 in c:\\users\\srikanth\\appdata\\local\\programs\\python\\python38\\lib\\site-packages (from requests<3,>=2.27->streamlit) (3.4.2)\n",
      "Requirement already satisfied: gitdb<5,>=4.0.1 in c:\\users\\srikanth\\appdata\\local\\programs\\python\\python38\\lib\\site-packages (from gitpython!=3.1.19,<4,>=3.0.7->streamlit) (4.0.12)\n",
      "Requirement already satisfied: python-dateutil>=2.8.1 in c:\\users\\srikanth\\appdata\\local\\programs\\python\\python38\\lib\\site-packages (from pandas<3,>=1.4.0->streamlit) (2.9.0.post0)\n",
      "Requirement already satisfied: pytz>=2020.1 in c:\\users\\srikanth\\appdata\\local\\programs\\python\\python38\\lib\\site-packages (from pandas<3,>=1.4.0->streamlit) (2025.2)\n",
      "Requirement already satisfied: pygments<3.0.0,>=2.13.0 in c:\\users\\srikanth\\appdata\\roaming\\python\\python38\\site-packages (from rich<14,>=10.14.0->streamlit) (2.19.2)\n",
      "Requirement already satisfied: markdown-it-py>=2.2.0 in c:\\users\\srikanth\\appdata\\local\\programs\\python\\python38\\lib\\site-packages (from rich<14,>=10.14.0->streamlit) (3.0.0)\n",
      "Requirement already satisfied: colorama; platform_system == \"Windows\" in c:\\users\\srikanth\\appdata\\local\\programs\\python\\python38\\lib\\site-packages (from click<9,>=7.0->streamlit) (0.4.6)\n",
      "Requirement already satisfied: MarkupSafe>=2.0 in c:\\users\\srikanth\\appdata\\local\\programs\\python\\python38\\lib\\site-packages (from jinja2->altair<6,>=4.0->streamlit) (2.1.5)\n",
      "Requirement already satisfied: pkgutil-resolve-name>=1.3.10; python_version < \"3.9\" in c:\\users\\srikanth\\appdata\\local\\programs\\python\\python38\\lib\\site-packages (from jsonschema>=3.0->altair<6,>=4.0->streamlit) (1.3.10)\n",
      "Requirement already satisfied: referencing>=0.28.4 in c:\\users\\srikanth\\appdata\\local\\programs\\python\\python38\\lib\\site-packages (from jsonschema>=3.0->altair<6,>=4.0->streamlit) (0.35.1)\n",
      "Requirement already satisfied: attrs>=22.2.0 in c:\\users\\srikanth\\appdata\\local\\programs\\python\\python38\\lib\\site-packages (from jsonschema>=3.0->altair<6,>=4.0->streamlit) (25.3.0)\n",
      "Requirement already satisfied: importlib-resources>=1.4.0; python_version < \"3.9\" in c:\\users\\srikanth\\appdata\\local\\programs\\python\\python38\\lib\\site-packages (from jsonschema>=3.0->altair<6,>=4.0->streamlit) (6.4.5)\n",
      "Requirement already satisfied: jsonschema-specifications>=2023.03.6 in c:\\users\\srikanth\\appdata\\local\\programs\\python\\python38\\lib\\site-packages (from jsonschema>=3.0->altair<6,>=4.0->streamlit) (2023.12.1)\n",
      "Requirement already satisfied: rpds-py>=0.7.1 in c:\\users\\srikanth\\appdata\\local\\programs\\python\\python38\\lib\\site-packages (from jsonschema>=3.0->altair<6,>=4.0->streamlit) (0.20.1)\n",
      "Requirement already satisfied: smmap<6,>=3.0.1 in c:\\users\\srikanth\\appdata\\local\\programs\\python\\python38\\lib\\site-packages (from gitdb<5,>=4.0.1->gitpython!=3.1.19,<4,>=3.0.7->streamlit) (5.0.2)\n",
      "Requirement already satisfied: six>=1.5 in c:\\users\\srikanth\\appdata\\local\\programs\\python\\python38\\lib\\site-packages (from python-dateutil>=2.8.1->pandas<3,>=1.4.0->streamlit) (1.17.0)\n",
      "Requirement already satisfied: mdurl~=0.1 in c:\\users\\srikanth\\appdata\\local\\programs\\python\\python38\\lib\\site-packages (from markdown-it-py>=2.2.0->rich<14,>=10.14.0->streamlit) (0.1.2)\n",
      "Requirement already satisfied: zipp>=3.1.0; python_version < \"3.10\" in c:\\users\\srikanth\\appdata\\local\\programs\\python\\python38\\lib\\site-packages (from importlib-resources>=1.4.0; python_version < \"3.9\"->jsonschema>=3.0->altair<6,>=4.0->streamlit) (3.20.2)\n"
     ]
    },
    {
     "name": "stderr",
     "output_type": "stream",
     "text": [
      "WARNING: You are using pip version 20.1.1; however, version 25.0.1 is available.\n",
      "You should consider upgrading via the 'c:\\users\\srikanth\\appdata\\local\\programs\\python\\python38\\python.exe -m pip install --upgrade pip' command.\n"
     ]
    },
    {
     "name": "stdout",
     "output_type": "stream",
     "text": [
      "Requirement already satisfied: protobuf==3.20.3 in c:\\users\\srikanth\\appdata\\local\\programs\\python\\python38\\lib\\site-packages (3.20.3)\n"
     ]
    },
    {
     "name": "stderr",
     "output_type": "stream",
     "text": [
      "WARNING: You are using pip version 20.1.1; however, version 25.0.1 is available.\n",
      "You should consider upgrading via the 'c:\\users\\srikanth\\appdata\\local\\programs\\python\\python38\\python.exe -m pip install --upgrade pip' command.\n"
     ]
    }
   ],
   "source": [
    "!pip install streamlit\n",
    "!pip install protobuf==3.20.3"
   ]
  },
  {
   "cell_type": "code",
   "execution_count": 2,
   "id": "ce8c4cba",
   "metadata": {},
   "outputs": [],
   "source": [
    "import streamlit as st\n",
    "import pandas as pd\n",
    "import matplotlib.pyplot as plt\n",
    "import ollama"
   ]
  },
  {
   "cell_type": "code",
   "execution_count": 3,
   "id": "7fda0aaa",
   "metadata": {},
   "outputs": [],
   "source": [
    "convo =[]"
   ]
  },
  {
   "cell_type": "code",
   "execution_count": 4,
   "id": "36a026d3",
   "metadata": {},
   "outputs": [
    {
     "name": "stdout",
     "output_type": "stream",
     "text": [
      "Given your total income is $20,000 and expenses are $14,000, you have a deficit of $4,000. To reduce expenses and manage the deficit, consider the following plan:\n",
      "\n",
      "**Short-term adjustments ( immediate changes):**\n",
      "\n",
      "1. **Cut back on non-essential expenses**: Identify areas where you can cut back on discretionary spending, such as dining out, entertainment, or subscription services.\n",
      "2. **Reduce household expenses**: Negotiate with service providers (e.g., cable, phone, insurance) to see if they can offer better rates.\n",
      "3. **Cancel subscription services**: Review your subscription services (e.g., streaming platforms, software, gym memberships) and cancel any unused or unnecessary ones.\n",
      "\n",
      "**Medium-term adjustments (within the next 3-6 months):**\n",
      "\n",
      "1. **Create a budget plan**: Track your income and expenses to understand where you can make changes.\n",
      "2. **Increase income**: Explore ways to increase your income, such as taking on a side job, asking for a raise, or selling unwanted items.\n",
      "3. **Reduce household expenses**: Consider downsizing or refinancing your home to reduce mortgage payments.\n",
      "4. **Improve energy efficiency**: Reduce energy consumption by making simple changes like turning off lights, using public transport, or adjusting your thermostat.\n",
      "\n",
      "**Long-term adjustments (within the next 6-12 months):**\n",
      "\n",
      "1. **Pay off high-interest debt**: Focus on paying off any high-interest debts, such as credit card balances.\n",
      "2. **Invest in a emergency fund**: Build an easily accessible savings account to cover unexpected expenses and avoid going further into debt.\n",
      "3. **Consider a budgeting app**: Utilize a budgeting app like Mint or You Need a Budget (YNAB) to track your expenses and stay on top of your finances.\n",
      "\n",
      "**Additional tips:**\n",
      "\n",
      "1. **Avoid impulse purchases**: Create a 30-day waiting period for non-essential purchases to help you avoid buying on impulse.\n",
      "2. **Use the 50/30/20 rule**: Allocate 50% of your income towards essential expenses, 30% towards discretionary spending, and 20% towards saving and debt repayment.\n",
      "3. **Review and adjust regularly**: Regularly review your budget and make adjustments as needed to stay on track.\n",
      "\n",
      "By implementing these short-term, medium-term, and long-term adjustments, you can reduce your expenses, manage the deficit, and work towards achieving financial stability."
     ]
    }
   ],
   "source": [
    "def stream_response(prompt):\n",
    "    convo.append({'role':'user','content': prompt})\n",
    "    response=''\n",
    "    stream=ollama.chat(model='llama3.2',messages=convo,stream=True)\n",
    "    for chunk in stream:\n",
    "        response+= chunk['message']['content']\n",
    "        print(chunk['message']['content'],end='',flush=True)\n",
    "    convo.append({'rloe':'assistant','content':response})\n",
    "    return response\n",
    "\n",
    "prompt='Total income=20000\\nExpenses:10000\\nTotal Expense:14000.Give me plan to reduce expenses'\n",
    "\n",
    "response = stream_response(prompt=prompt)\n"
   ]
  },
  {
   "cell_type": "code",
   "execution_count": 5,
   "id": "02da1a8a",
   "metadata": {},
   "outputs": [
    {
     "data": {
      "text/plain": [
       "'Given your total income is $20,000 and expenses are $14,000, you have a deficit of $4,000. To reduce expenses and manage the deficit, consider the following plan:\\n\\n**Short-term adjustments ( immediate changes):**\\n\\n1. **Cut back on non-essential expenses**: Identify areas where you can cut back on discretionary spending, such as dining out, entertainment, or subscription services.\\n2. **Reduce household expenses**: Negotiate with service providers (e.g., cable, phone, insurance) to see if they can offer better rates.\\n3. **Cancel subscription services**: Review your subscription services (e.g., streaming platforms, software, gym memberships) and cancel any unused or unnecessary ones.\\n\\n**Medium-term adjustments (within the next 3-6 months):**\\n\\n1. **Create a budget plan**: Track your income and expenses to understand where you can make changes.\\n2. **Increase income**: Explore ways to increase your income, such as taking on a side job, asking for a raise, or selling unwanted items.\\n3. **Reduce household expenses**: Consider downsizing or refinancing your home to reduce mortgage payments.\\n4. **Improve energy efficiency**: Reduce energy consumption by making simple changes like turning off lights, using public transport, or adjusting your thermostat.\\n\\n**Long-term adjustments (within the next 6-12 months):**\\n\\n1. **Pay off high-interest debt**: Focus on paying off any high-interest debts, such as credit card balances.\\n2. **Invest in a emergency fund**: Build an easily accessible savings account to cover unexpected expenses and avoid going further into debt.\\n3. **Consider a budgeting app**: Utilize a budgeting app like Mint or You Need a Budget (YNAB) to track your expenses and stay on top of your finances.\\n\\n**Additional tips:**\\n\\n1. **Avoid impulse purchases**: Create a 30-day waiting period for non-essential purchases to help you avoid buying on impulse.\\n2. **Use the 50/30/20 rule**: Allocate 50% of your income towards essential expenses, 30% towards discretionary spending, and 20% towards saving and debt repayment.\\n3. **Review and adjust regularly**: Regularly review your budget and make adjustments as needed to stay on track.\\n\\nBy implementing these short-term, medium-term, and long-term adjustments, you can reduce your expenses, manage the deficit, and work towards achieving financial stability.'"
      ]
     },
     "execution_count": 5,
     "metadata": {},
     "output_type": "execute_result"
    }
   ],
   "source": [
    "response"
   ]
  },
  {
   "cell_type": "code",
   "execution_count": 11,
   "id": "13af3e1e",
   "metadata": {},
   "outputs": [
    {
     "name": "stderr",
     "output_type": "stream",
     "text": [
      "2025-07-15 14:33:28.256 WARNING streamlit.runtime.scriptrunner_utils.script_run_context: Thread 'MainThread': missing ScriptRunContext! This warning can be ignored when running in bare mode.\n",
      "2025-07-15 14:33:28.903 \n",
      "  \u001b[33m\u001b[1mWarning:\u001b[0m to view this Streamlit app on a browser, run it with the following\n",
      "  command:\n",
      "\n",
      "    streamlit run C:\\Users\\Srikanth\\AppData\\Roaming\\Python\\Python38\\site-packages\\ipykernel_launcher.py [ARGUMENTS]\n",
      "2025-07-15 14:33:28.907 Thread 'MainThread': missing ScriptRunContext! This warning can be ignored when running in bare mode.\n",
      "2025-07-15 14:33:28.911 Thread 'MainThread': missing ScriptRunContext! This warning can be ignored when running in bare mode.\n",
      "2025-07-15 14:33:28.915 Thread 'MainThread': missing ScriptRunContext! This warning can be ignored when running in bare mode.\n",
      "2025-07-15 14:33:28.918 Thread 'MainThread': missing ScriptRunContext! This warning can be ignored when running in bare mode.\n",
      "2025-07-15 14:33:28.921 Thread 'MainThread': missing ScriptRunContext! This warning can be ignored when running in bare mode.\n",
      "2025-07-15 14:33:28.924 Thread 'MainThread': missing ScriptRunContext! This warning can be ignored when running in bare mode.\n",
      "2025-07-15 14:33:28.927 Thread 'MainThread': missing ScriptRunContext! This warning can be ignored when running in bare mode.\n",
      "2025-07-15 14:33:28.930 Session state does not function when running a script without `streamlit run`\n",
      "2025-07-15 14:33:28.936 Thread 'MainThread': missing ScriptRunContext! This warning can be ignored when running in bare mode.\n",
      "2025-07-15 14:33:28.939 Thread 'MainThread': missing ScriptRunContext! This warning can be ignored when running in bare mode.\n",
      "2025-07-15 14:33:28.943 Thread 'MainThread': missing ScriptRunContext! This warning can be ignored when running in bare mode.\n",
      "2025-07-15 14:33:28.946 Thread 'MainThread': missing ScriptRunContext! This warning can be ignored when running in bare mode.\n",
      "2025-07-15 14:33:28.954 Thread 'MainThread': missing ScriptRunContext! This warning can be ignored when running in bare mode.\n",
      "2025-07-15 14:33:28.958 Thread 'MainThread': missing ScriptRunContext! This warning can be ignored when running in bare mode.\n",
      "2025-07-15 14:33:28.962 Thread 'MainThread': missing ScriptRunContext! This warning can be ignored when running in bare mode.\n",
      "2025-07-15 14:33:28.968 Thread 'MainThread': missing ScriptRunContext! This warning can be ignored when running in bare mode.\n",
      "2025-07-15 14:33:28.978 Thread 'MainThread': missing ScriptRunContext! This warning can be ignored when running in bare mode.\n",
      "2025-07-15 14:33:28.983 Thread 'MainThread': missing ScriptRunContext! This warning can be ignored when running in bare mode.\n",
      "2025-07-15 14:33:28.987 Thread 'MainThread': missing ScriptRunContext! This warning can be ignored when running in bare mode.\n",
      "2025-07-15 14:33:28.991 Thread 'MainThread': missing ScriptRunContext! This warning can be ignored when running in bare mode.\n",
      "2025-07-15 14:33:28.995 Thread 'MainThread': missing ScriptRunContext! This warning can be ignored when running in bare mode.\n",
      "2025-07-15 14:33:29.002 Thread 'MainThread': missing ScriptRunContext! This warning can be ignored when running in bare mode.\n",
      "2025-07-15 14:33:29.005 Thread 'MainThread': missing ScriptRunContext! This warning can be ignored when running in bare mode.\n",
      "2025-07-15 14:33:29.008 Thread 'MainThread': missing ScriptRunContext! This warning can be ignored when running in bare mode.\n",
      "2025-07-15 14:33:29.020 Thread 'MainThread': missing ScriptRunContext! This warning can be ignored when running in bare mode.\n",
      "2025-07-15 14:33:29.024 Thread 'MainThread': missing ScriptRunContext! This warning can be ignored when running in bare mode.\n",
      "2025-07-15 14:33:29.027 Thread 'MainThread': missing ScriptRunContext! This warning can be ignored when running in bare mode.\n",
      "2025-07-15 14:33:29.030 Thread 'MainThread': missing ScriptRunContext! This warning can be ignored when running in bare mode.\n",
      "2025-07-15 14:33:29.035 Thread 'MainThread': missing ScriptRunContext! This warning can be ignored when running in bare mode.\n",
      "2025-07-15 14:33:29.039 Thread 'MainThread': missing ScriptRunContext! This warning can be ignored when running in bare mode.\n",
      "2025-07-15 14:33:29.041 Thread 'MainThread': missing ScriptRunContext! This warning can be ignored when running in bare mode.\n",
      "2025-07-15 14:33:29.047 Thread 'MainThread': missing ScriptRunContext! This warning can be ignored when running in bare mode.\n",
      "2025-07-15 14:33:29.048 Thread 'MainThread': missing ScriptRunContext! This warning can be ignored when running in bare mode.\n",
      "2025-07-15 14:33:29.062 Thread 'MainThread': missing ScriptRunContext! This warning can be ignored when running in bare mode.\n",
      "2025-07-15 14:33:29.067 Thread 'MainThread': missing ScriptRunContext! This warning can be ignored when running in bare mode.\n",
      "2025-07-15 14:33:29.071 Thread 'MainThread': missing ScriptRunContext! This warning can be ignored when running in bare mode.\n",
      "2025-07-15 14:33:29.073 Thread 'MainThread': missing ScriptRunContext! This warning can be ignored when running in bare mode.\n",
      "2025-07-15 14:33:29.077 Thread 'MainThread': missing ScriptRunContext! This warning can be ignored when running in bare mode.\n",
      "2025-07-15 14:33:29.081 Thread 'MainThread': missing ScriptRunContext! This warning can be ignored when running in bare mode.\n"
     ]
    }
   ],
   "source": [
    "#Streamlit response\n",
    "\n",
    "st.title(\"Budget Optimization Assisstant\")\n",
    "\n",
    "st.header(\"Enter your Financial Data\")\n",
    "\n",
    "income = st.number_input(\"Total Monthy Income\", min_value=0)\n",
    "entertainment = st.number_input(\"Total Spend on Entertainment\",min_value=0)\n",
    "bills = st.number_input(\"Total Spend on Bills\",min_value=0)\n",
    "food = st.number_input(\"Total Spend on Food\",min_value=0)\n",
    "emi = st.number_input(\"Total Spend on EMI\",min_value=0)\n",
    "\n",
    "if st.button(\"Analyze\"):\n",
    "    expense_dict = {\n",
    "        \"Entertainment\": entertainment,\n",
    "        \"Bills\": bills,\n",
    "        \"Food\": food,\n",
    "        \"EMI\": emi\n",
    "    }\n",
    "\n",
    "    total_expenses = sum(expense_dict.values())\n",
    "    savings = income - total_expenses\n",
    "    expense_percentages = {k: (v / income * 100 if income > 0 else 0) for k, v in expense_dict.items()}\n",
    "\n",
    "    st.subheader(\"🔍 Analysis\")\n",
    "    st.write(f\"**Total Income:** ₹{income}\")\n",
    "    st.write(f\"**Total Expenses:** ₹{total_expenses}\")\n",
    "    st.write(f\"**Estimated Savings:** ₹{savings}\")\n",
    "\n",
    "    st.subheader(\"📊 Expense Breakdown (% of Income)\")\n",
    "    for category, percent in expense_percentages.items():\n",
    "        st.write(f\"{category}: {percent:.2f}%\")\n",
    "\n",
    "    st.subheader(\"💡 Suggestions\")\n",
    "    if savings < income * 0.2:\n",
    "        st.warning(\"Your savings are below 20%. Consider reducing discretionary spending (like Entertainment).\")\n",
    "    if expense_percentages[\"EMI\"] > 40:\n",
    "        st.warning(\"Your EMI is over 40% of your income, which may indicate high debt burden.\")\n",
    "    if expense_percentages[\"Entertainment\"] > 15:\n",
    "        st.info(\"Entertainment spending is high. Consider reducing it to improve savings.\")\n",
    "\n",
    "    st.success(\"Analysis complete. Use this insight to adjust your budget wisely!\")\n"
   ]
  },
  {
   "cell_type": "code",
   "execution_count": 7,
   "id": "b631ef4f",
   "metadata": {},
   "outputs": [],
   "source": [
    "from langchain_community.llms import Ollama"
   ]
  },
  {
   "cell_type": "code",
   "execution_count": 8,
   "id": "7154333c",
   "metadata": {},
   "outputs": [],
   "source": [
    "ollama = Ollama(base_url=\"http://localhost:11434\" , model='llama3.2')"
   ]
  },
  {
   "cell_type": "code",
   "execution_count": 9,
   "id": "820d7bf8",
   "metadata": {},
   "outputs": [
    {
     "name": "stderr",
     "output_type": "stream",
     "text": [
      "C:\\Users\\Srikanth\\AppData\\Local\\Temp\\ipykernel_14984\\3463022362.py:1: LangChainDeprecationWarning: The method `BaseLLM.__call__` was deprecated in langchain-core 0.1.7 and will be removed in 1.0. Use invoke instead.\n",
      "  print(ollama(\"What is llama?\"))\n"
     ]
    },
    {
     "name": "stdout",
     "output_type": "stream",
     "text": [
      "A llama (Lama glama) is a domesticated mammal native to South America, specifically the Andean region. It belongs to the camelid family, which also includes camels, alpacas, and vicuñas.\n",
      "\n",
      "Here are some key facts about llamas:\n",
      "\n",
      "1. **Physical characteristics**: Llamas have a distinctive appearance, with a long neck, banana-shaped ears, and a short, dense coat that can be various shades of brown, gray, or white.\n",
      "2. **Size**: Adult llamas typically weigh between 280 and 450 kg (620-990 lbs), with males being larger than females.\n",
      "3. **Behavior**: Llamas are social animals and live in herds in the wild. They are known for their intelligence, curiosity, and strong will.\n",
      "4. **Domestication**: Llamas have been domesticated for thousands of years, primarily as pack animals and meat sources. Today, they are also used as companions and are prized for their soft wool.\n",
      "5. **Diet**: Llamas are herbivores and feed on grasses, plants, and other vegetation.\n",
      "6. **Intelligence**: Llamas are considered one of the most intelligent camelids, known for their problem-solving abilities and ability to learn quickly.\n",
      "\n",
      "Llamas have become popular as pets in recent years due to their gentle nature, intelligence, and low maintenance requirements. However, they do require regular care, including veterinary check-ups, vaccinations, and proper nutrition.\n"
     ]
    }
   ],
   "source": [
    "print(ollama(\"What is llama?\"))"
   ]
  },
  {
   "cell_type": "code",
   "execution_count": 10,
   "id": "f61fdf58",
   "metadata": {},
   "outputs": [
    {
     "name": "stdout",
     "output_type": "stream",
     "text": [
      "**Object-Oriented Programming System (OOPS) Concept**\n",
      "\n",
      "Object-Oriented Programming (OOPS) is a programming paradigm that revolves around the concept of objects and classes. It's a way of designing, organizing, and writing code to create reusable and modular software systems.\n",
      "\n",
      "The four fundamental principles of OOPS are:\n",
      "\n",
      "### 1. Encapsulation\n",
      "\n",
      "Encapsulation is the idea of bundling data and its methods that operate on that data within a single unit called an object. This helps hide the implementation details of an object from the outside world, making it easier to modify or replace the object without affecting other parts of the system.\n",
      "\n",
      "**Example:**\n",
      "```python\n",
      "class BankAccount:\n",
      "    def __init__(self, balance):\n",
      "        self.__balance = balance\n",
      "\n",
      "    def deposit(self, amount):\n",
      "        if amount > 0:\n",
      "            self.__balance += amount\n",
      "        else:\n",
      "            raise ValueError(\"Invalid deposit amount\")\n",
      "\n",
      "# accessing private attribute using getter/setter\n",
      "account = BankAccount(100)\n",
      "print(account.get_balance())  # prints 100\n",
      "```\n",
      "In this example, the `BankAccount` class encapsulates the `balance` data and provides a public method (`deposit`) to modify it. The actual value of `__balance` is hidden from external access.\n",
      "\n",
      "### 2. Abstraction\n",
      "\n",
      "Abstraction is the practice of showing only necessary information to the outside world while hiding unnecessary details. This helps reduce complexity and make code more modular.\n",
      "\n",
      "**Example:**\n",
      "```python\n",
      "class Car:\n",
      "    def __init__(self, color):\n",
      "        self.__color = color\n",
      "\n",
      "    def drive(self):\n",
      "        print(\"Vroom!\")\n",
      "\n",
      "# using abstraction to get car's color without accessing private attribute\n",
      "my_car = Car(\"Red\")\n",
      "print(my_car.color)  # prints Red (no access to internal data)\n",
      "```\n",
      "In this example, the `Car` class provides an abstract interface (`drive`) that doesn't reveal its internal implementation details.\n",
      "\n",
      "### 3. Inheritance\n",
      "\n",
      "Inheritance is a mechanism where one object can inherit properties and behavior from another object. This helps create a hierarchy of classes with shared characteristics.\n",
      "\n",
      "**Example:**\n",
      "```python\n",
      "class Animal:\n",
      "    def __init__(self, name):\n",
      "        self.name = name\n",
      "\n",
      "    def eat(self):\n",
      "        print(\"Eating...\")\n",
      "\n",
      "class Dog(Animal):\n",
      "    def __init__(self, name, breed):\n",
      "        super().__init__(name)\n",
      "        self.breed = breed\n",
      "\n",
      "    def bark(self):\n",
      "        print(\"Woof!\")\n",
      "\n",
      "# creating a dog object that inherits from animal\n",
      "my_dog = Dog(\"Fido\", \"Golden Retriever\")\n",
      "print(my_dog.name)  # prints Fido (inherits name attribute)\n",
      "```\n",
      "In this example, the `Dog` class inherits properties and behavior from the `Animal` class using inheritance.\n",
      "\n",
      "### 4. Polymorphism\n",
      "\n",
      "Polymorphism is the ability of an object to take on multiple forms. This can be achieved through method overriding or method overloading.\n",
      "\n",
      "**Example:**\n",
      "```python\n",
      "class Shape:\n",
      "    def area(self):\n",
      "        pass\n",
      "\n",
      "class Circle(Shape):\n",
      "    def __init__(self, radius):\n",
      "        self.radius = radius\n",
      "\n",
      "    def area(self):\n",
      "        return 3.14 * (self.radius ** 2)\n",
      "\n",
      "class Rectangle(Shape):\n",
      "    def __init__(self, width, height):\n",
      "        self.width = width\n",
      "        self.height = height\n",
      "\n",
      "    def area(self):\n",
      "        return self.width * self.height\n",
      "\n",
      "# creating shape objects that can take on multiple forms\n",
      "circle = Circle(5)\n",
      "print(circle.area())  # prints πr^2 (polymorphic call)\n",
      "\n",
      "rectangle = Rectangle(4, 6)\n",
      "print(rectangle.area())  # prints width × height (polymorphic call)\n",
      "```\n",
      "In this example, the `Circle` and `Rectangle` classes override the `area()` method to provide their own implementation. This demonstrates polymorphism through method overriding.\n",
      "\n",
      "These four fundamental principles of OOPS (encapsulation, abstraction, inheritance, and polymorphism) are essential for designing robust, modular, and maintainable software systems.\n"
     ]
    }
   ],
   "source": [
    "print(ollama(\"What is OOPS concept?\"))"
   ]
  }
 ],
 "metadata": {
  "kernelspec": {
   "display_name": "Python 3",
   "language": "python",
   "name": "python3"
  },
  "language_info": {
   "codemirror_mode": {
    "name": "ipython",
    "version": 3
   },
   "file_extension": ".py",
   "mimetype": "text/x-python",
   "name": "python",
   "nbconvert_exporter": "python",
   "pygments_lexer": "ipython3",
   "version": "3.8.5"
  }
 },
 "nbformat": 4,
 "nbformat_minor": 5
}
